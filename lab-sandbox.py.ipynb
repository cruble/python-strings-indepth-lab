{
 "cells": [
  {
   "cell_type": "code",
   "execution_count": 232,
   "metadata": {
    "collapsed": true
   },
   "outputs": [],
   "source": [
    "def say_hello(name):\n",
    "    return \"Hi my name is {name}\".format(name=name)"
   ]
  },
  {
   "cell_type": "code",
   "execution_count": 233,
   "metadata": {},
   "outputs": [
    {
     "data": {
      "text/plain": [
       "'Hi my name is Chad'"
      ]
     },
     "execution_count": 233,
     "metadata": {},
     "output_type": "execute_result"
    }
   ],
   "source": [
    "say_hello(\"Chad\")"
   ]
  },
  {
   "cell_type": "code",
   "execution_count": 234,
   "metadata": {
    "collapsed": true
   },
   "outputs": [],
   "source": [
    "def replace_given_substring(str_to_replace, str_to_insert, string):\n",
    "    return string.replace(str_to_replace, str_to_insert)"
   ]
  },
  {
   "cell_type": "code",
   "execution_count": 235,
   "metadata": {},
   "outputs": [
    {
     "data": {
      "text/plain": [
       "'Hello my name is Charles'"
      ]
     },
     "execution_count": 235,
     "metadata": {},
     "output_type": "execute_result"
    }
   ],
   "source": [
    "replace_given_substring(\"Chad\", \"Charles\", \"Hello my name is Chad\")"
   ]
  },
  {
   "cell_type": "code",
   "execution_count": 110,
   "metadata": {
    "collapsed": true
   },
   "outputs": [],
   "source": [
    "def remove_duplicate_punctuation(string):\n",
    "    \n",
    "    marks = [\"!\", \"@\", \"#\", \"$\", \".\", \"?\"]\n",
    "    split_string = string.split()\n",
    "    new_string = []\n",
    "    for word in split_string: \n",
    "        for mark in marks: \n",
    "            if mark not in word: \n",
    "                new_string.append(word)\n",
    "            else: \n",
    "                while word.count(mark) > 1: \n",
    "                    word = word[0:-1]\n",
    "                    if word.count(mark) == 1:\n",
    "                        new_string.append(word)\n",
    "                        print(word)\n",
    "                \n",
    "    return ' '.join(new_string)\n",
    "                    \n",
    "            #string = new_string\n",
    "            #print(new_string)"
   ]
  },
  {
   "cell_type": "code",
   "execution_count": 279,
   "metadata": {
    "collapsed": true
   },
   "outputs": [],
   "source": [
    "def remove_duplicate_punctuation(string): \n",
    "    marks = [\"!\", \"@\", \"#\", \"$\", \".\", \"?\"]\n",
    "    word_list = string.split()\n",
    "    for word in word_list:\n",
    "        for mark in marks: \n",
    "            if word.count(mark) > 1:\n",
    "                #print(word, word.count(mark))\n",
    "                clean_word = word[:-word.count(mark)+1]\n",
    "                string = string.replace(word, clean_word)\n",
    "    return string \n",
    "        \n",
    "    \n"
   ]
  },
  {
   "cell_type": "code",
   "execution_count": 280,
   "metadata": {
    "collapsed": true
   },
   "outputs": [],
   "source": [
    "string = \"Hello..... My name is Terrance!! How are you???\"\n"
   ]
  },
  {
   "cell_type": "code",
   "execution_count": 281,
   "metadata": {},
   "outputs": [
    {
     "name": "stdout",
     "output_type": "stream",
     "text": [
      "Hello. My name is Terrance! How are you?\n"
     ]
    }
   ],
   "source": [
    "print(remove_duplicate_punctuation(string))"
   ]
  },
  {
   "cell_type": "code",
   "execution_count": 269,
   "metadata": {},
   "outputs": [
    {
     "data": {
      "text/plain": [
       "'Hello..... My name is Terrance!! How are you???'"
      ]
     },
     "execution_count": 269,
     "metadata": {},
     "output_type": "execute_result"
    }
   ],
   "source": [
    "string"
   ]
  },
  {
   "cell_type": "code",
   "execution_count": 209,
   "metadata": {
    "collapsed": true
   },
   "outputs": [],
   "source": [
    "\n",
    "from string import punctuation \n",
    "punct = list(set(punctuation))\n",
    "punct.remove('@')\n",
    "punct.remove('.')\n",
    "\n",
    "email = \"chad@chad.com\"\n",
    "not_email = \"chad.blah\"\n",
    "invalid_email = \"chad#^\"\n",
    "\n",
    "def validate_email_format(email):\n",
    "    status = 'Yes'\n",
    "    if \"@\" in email and \".com\" in email:\n",
    "        status = \"Yes\"\n",
    "        for char in email: \n",
    "            print(char)\n",
    "            if char in punct:\n",
    "                status = \"No\"\n",
    "    else: \n",
    "        status = 'No'\n",
    "    return status \n",
    "    \n",
    "    # should make sure there are no special characters (i.e. *,~,#,$,%,&,(,),`,\",',:,;,/,>,<)\n",
    "    # make sure the email contains an @ symbol and a .com\n",
    "    # return True if format passes tests, return False otherwise"
   ]
  },
  {
   "cell_type": "code",
   "execution_count": null,
   "metadata": {
    "collapsed": true
   },
   "outputs": [],
   "source": [
    "        filtered_words = []\n",
    "        for mark in marks: \n",
    "            if mark in word: \n",
    "                mark_count = word.count(mark)\n",
    "                print(mark_count)\n",
    "                word = word[0:mark_count]\n",
    "                print(word)"
   ]
  },
  {
   "cell_type": "code",
   "execution_count": 22,
   "metadata": {
    "collapsed": true
   },
   "outputs": [],
   "source": [
    "credit_dashes = \"1234-5678-90-1235\"\n",
    "credit_spaces = \"1234 5678 90 1234\"\n",
    "\n",
    "def anonymize_credit_card_number(credit_card_number):\n",
    "    end_string = credit_card_number[-4:]\n",
    "    start_string = []\n",
    "    anonymous = []\n",
    "    for char in credit_card_number[0:-4]: \n",
    "        if char == \"-\" or char == \" \":\n",
    "            anonymous.append(char)\n",
    "        else: \n",
    "            anonymous.append(\"X\")\n",
    "    return ''.join(anonymous) + end_string\n"
   ]
  },
  {
   "cell_type": "code",
   "execution_count": 25,
   "metadata": {},
   "outputs": [
    {
     "name": "stdout",
     "output_type": "stream",
     "text": [
      "<class 'str'>\n"
     ]
    },
    {
     "data": {
      "text/plain": [
       "'XXXX-XXXX-XX-1235'"
      ]
     },
     "execution_count": 25,
     "metadata": {},
     "output_type": "execute_result"
    }
   ],
   "source": [
    "anonymize_credit_card_number(credit_dashes)"
   ]
  },
  {
   "cell_type": "code",
   "execution_count": null,
   "metadata": {
    "collapsed": true
   },
   "outputs": [],
   "source": []
  }
 ],
 "metadata": {
  "kernelspec": {
   "display_name": "Python 3",
   "language": "python",
   "name": "python3"
  },
  "language_info": {
   "codemirror_mode": {
    "name": "ipython",
    "version": 3
   },
   "file_extension": ".py",
   "mimetype": "text/x-python",
   "name": "python",
   "nbconvert_exporter": "python",
   "pygments_lexer": "ipython3",
   "version": "3.6.1"
  }
 },
 "nbformat": 4,
 "nbformat_minor": 2
}
